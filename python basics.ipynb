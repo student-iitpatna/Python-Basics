{
 "cells": [
  {
   "cell_type": "code",
   "execution_count": null,
   "id": "0e274abb-8929-47d4-8322-8c49b2ee151f",
   "metadata": {},
   "outputs": [],
   "source": [
    "#QUESTION 1:\n",
    "  EXPLAIN THE KEY FEATURES OF PYTHON THAT MAKE IT A POPULAR CHOICE FOR PROGRAMMING\n",
    "    \n",
    "1. Easy to Learn: Python has a simple syntax and is relatively easy to learn, making it a great language for beginners. Its often taught as a first language in introductory programming courses.\n",
    "2. High-Level Language: Python is a high-level language, meaning it abstracts away many low-level details, allowing developers to focus on the logic of their program without worrying about memory management, etc.\n",
    "3. Interpreted Language: Python is an interpreted language, which means that code is executed line by line, making it easy to write and test code quickly.\n",
    "4. Object-Oriented: Python is an object-oriented language, which organizes code into objects that contain data and functions that operate on that data.\n",
    "5. Large Standard Library: Python has a vast and comprehensive standard library that includes modules for various tasks, such as file I/O, networking, and data structures.\n",
    "6. Dynamic Typing: Python is dynamically typed, which means you dont need to declare variable types before using them. This makes it easy to write code quickly and experiment with different data types.\n",
    "7. Cross-Platform: Python can run on multiple platforms, including Windows, macOS, and Linux.\n",
    "8. Extensive Community: Python has a large and active community, which means there are many resources available, including libraries, frameworks, and tutorials.\n",
    "9. Rapid Development: Python syntax and nature make it ideal for rapid prototyping and development."
   ]
  },
  {
   "cell_type": "code",
   "execution_count": null,
   "id": "e68ab311-83f1-42f9-a8a5-cce5edd8adff",
   "metadata": {},
   "outputs": [],
   "source": [
    "#QUESTION 2:\n",
    "    EXPLAIN THE ROLE OF PREDEFINED KEYWORDS IN PYTHON AND PROVIDE EXAMPLES OF HOW THEY ARE USED IN A PROGRAM\n",
    "    \n",
    "Predefined keywords are reserved words that have special meanings and are used to define the structure and syntax of a program.\n",
    "There are total 33 predefined keywords.\n",
    "\n",
    "   "
   ]
  },
  {
   "cell_type": "code",
   "execution_count": null,
   "id": "d12387d4-7e80-4b1b-b12a-cfd2342c681b",
   "metadata": {},
   "outputs": [],
   "source": [
    "#QUESTION 3:\n",
    "    COMPARE AND CONTRAST MUTUBALE AND IMMUTABLE OBJECTS IN PYTHON WITH EXAMPLES.....\n",
    "    \n",
    "    MUTUBALE OBJECTS\n",
    "Mutubale objects are those that can be modified after they are created. mutable objects in Python include:\n",
    "*Lists\n",
    "*Dictionaries\n",
    "*Sets\n",
    "*User-defined classes\n",
    "\n",
    "    IMMUTABLE OBJECTS\n",
    "Immutable objects are those that cannot be modified after they are created. immutable objects in python include:\n",
    "*Integers\n",
    "*Floats\n",
    "*Strings\n",
    "*Tuples"
   ]
  },
  {
   "cell_type": "code",
   "execution_count": 2,
   "id": "d69faef6-e8f8-4232-976b-c49415ac7d4c",
   "metadata": {},
   "outputs": [
    {
     "name": "stdout",
     "output_type": "stream",
     "text": [
      "[1, 2, 3, 4]\n"
     ]
    }
   ],
   "source": [
    "#list\n",
    "my_list = [1, 2, 3]\n",
    "my_list.append(4)\n",
    "print(my_list)"
   ]
  },
  {
   "cell_type": "code",
   "execution_count": 3,
   "id": "346c46f1-5725-42e7-b90a-420bcbccbc7c",
   "metadata": {},
   "outputs": [
    {
     "name": "stdout",
     "output_type": "stream",
     "text": [
      "{'name': 'John', 'age': 30, 'city': 'New York'}\n"
     ]
    }
   ],
   "source": [
    "#dictionary\n",
    "my_dict = {\"name\": \"John\", \"age\": 30}\n",
    "my_dict[\"city\"] = \"New York\"\n",
    "print(my_dict) "
   ]
  },
  {
   "cell_type": "code",
   "execution_count": 4,
   "id": "8bcd9d17-67fb-489e-a653-7b91c0df7a9d",
   "metadata": {},
   "outputs": [
    {
     "name": "stdout",
     "output_type": "stream",
     "text": [
      "{1, 2, 3, 4}\n"
     ]
    }
   ],
   "source": [
    "#sets\n",
    "my_set = {1, 2, 3}\n",
    "my_set.add(4)\n",
    "print(my_set)"
   ]
  },
  {
   "cell_type": "code",
   "execution_count": 10,
   "id": "d9c53556-45a8-4081-ad1f-bed34a143721",
   "metadata": {},
   "outputs": [
    {
     "data": {
      "text/plain": [
       "3"
      ]
     },
     "execution_count": 10,
     "metadata": {},
     "output_type": "execute_result"
    }
   ],
   "source": [
    "#tuple\n",
    "tuple1 = (\"pwskills\", 1, 1, 1, 2, 2.2, \"pwskills\",2)\n",
    "tuple1.count(1)"
   ]
  },
  {
   "cell_type": "code",
   "execution_count": null,
   "id": "132264a6-d86f-46b1-afd5-cd8d9b19ae4b",
   "metadata": {},
   "outputs": [],
   "source": [
    "#QUESTION 4:\n",
    "  DISCUSS THE DIFFERENT TYPES OF OPERATORS IN PYTHON AND PROVIDE EXAMPLES OF HOW THEY ARE USED........\n",
    "    \n",
    "operators are special keywords to perform operators >> manage and computation.\n",
    "1.ARTHEMATIC OPERATOR\n",
    "Arithmetic operators are used to perform mathematical operations such as addition, subtraction, multiplication, and division.\n",
    "Operator\t       Description\t                           Example\n",
    "+\tAddition\t      a = 5; b = 3;                     print(a + b) Output: 8\n",
    "-\tSubtraction\t      a = 5; b = 3;                     print(a - b) Output: 2\n",
    "*\tMultiplication\t  a = 5; b = 3;                     print(a * b) Output: 15\n",
    "/\tDivision\t      a = 5; b = 3;                     print(a / b) Output: 1.6666666666666667\n",
    "//\tFloor Division\t  a = 5; b = 3;                     print(a // b) Output: 1\n",
    "%\tModulus\t          a = 5; b = 3;                     print(a % b) Output: 2\n",
    "**\tExponentiation\t  a = 5; b = 3;                     print(a ** b) Output: 125\n",
    "\n",
    "2. LOGICAL OPERATOR\n",
    "logical operators are used to combine boolean values and return a boolean result.\n",
    "\n",
    "Operator\t             Description\t                   Example\n",
    "and\tLogical And     \ta = True; b = True;               print(a and b) Output: True\n",
    "or\tLogical Or\t        a = True; b = False;              print(a or b) Output: True\n",
    "not\tLogical Not\t        a = True;                         print(not a) Output: False\n",
    "\n",
    "3. COMAPRISON OPERATOR\n",
    "Comparison operators are used to compare values and return a boolean result.\n",
    "\n",
    "Operator\t                    Description\t                     Example\n",
    "==\tEqual\t                   a = 5; b = 5;                print(a == b) Output: True\n",
    "!=\tNot Equal\t               a = 5; b = 3;                print(a != b) Output: True\n",
    ">\tGreater Than\t           a = 5; b = 3;                print(a > b) Output: True\n",
    "<\tLess Than\t               a = 5; b = 3;                print(a < b) Output: False\n",
    ">=\tGreater Than or Equal\t   a = 5; b = 5;                print(a >= b) Output: True\n",
    "<=\tLess Than or Equal\t       a = 5; b = 5;                print(a <= b) Output: True\n",
    "\n",
    "4. ASSIGNMENT OPEARTORS\n",
    "Assignment operators are used to assign values to variables.\n",
    "\n",
    "Operator\t                            Description\t                    Example\n",
    "=\tAssignment                     \t  a = 5;                          print(a) Output: 5\n",
    "+=\tAddition Assignment\t              a = 5; a += 3;                  print(a) Output: 8\n",
    "-=\tSubtraction Assignment\t          a = 5; a -= 3;                  print(a) Output: 2\n",
    "*=\tMultiplication Assignment\t      a = 5; a *= 3;                  print(a) Output: 15\n",
    "/=\tDivision Assignment            \t  a = 5; a /= 3;                  print(a) Output: 1.6666666666666667\n",
    "//=\tFloor Division Assignment\t      a = 5; a //= 3;                 print(a) Output: 1\n",
    "%=\tModulus Assignment\t              a = 5; a %= 3;                  print(a) Output: 2\n",
    "**=\tExponentiation Assignment\t      a = 5; a **= 3;                 print(a) Output: 125\n",
    "\n",
    "5. BITWISE OPERATORS\n",
    "Bitwise operators are used to perform operations on the binary representation of numbers.\n",
    "\n",
    "Operator\t               Description\t                 Example\n",
    "&\tBitwise And\t           a = 5; b = 3;               print(a & b) Output: 1\n",
    "`\t`\tBitwise Or         a = 5; b = 3;               print(a/b) Output: 7\n",
    "^\tBitwise Xor\t           a = 5; b = 3;               print(a ^ b) Output: 6"
   ]
  },
  {
   "cell_type": "code",
   "execution_count": null,
   "id": "cbceb679-9271-407b-845a-6c4919ec5659",
   "metadata": {},
   "outputs": [],
   "source": [
    "#QUESTION 5\n",
    "EXPLAIN THE CONCEPT OF TYPECASTING IN PYTHON WITH EXAMPLES............\n",
    "\n",
    "Type casting/ type conversion >> The process of changing the data type of a value/ objects\n",
    "\n",
    "Types of Typecasting\n",
    "There are two types of typecasting in Python:\n",
    "\n",
    "1. Implicit Typecasting\n",
    "Implicit typecasting is done automatically by Python when a value of one type is assigned to a variable of another type. For example:\n",
    "\n",
    "a = 5  # integer\n",
    "b = 3.14  # float\n",
    "\n",
    "c = a + b  # implicit typecasting: integer + float = float\n",
    "print(c)  # Output: 8.14\n",
    "In this example, Python automatically converts the integer a to a float when adding it to the float b.\n",
    "\n",
    "2. Explicit Typecasting\n",
    "Explicit typecasting is done using built-in functions such as int(), float(), str(), etc. to convert a value of one type to another type. For example:\n",
    "\n",
    "a = \"5\"  # string\n",
    "b = int(a)  # explicit typecasting: string to integer\n",
    "print(b)  # Output: 5\n",
    "\n",
    "c = 3.14  # float\n",
    "d = int(c)  # explicit typecasting: float to integer\n",
    "print(d)  # Output: 3\n",
    "In this example, we use the int() function to explicitly convert the string \"5\" to an integer and the float 3.14 to an integer.\n",
    "\n",
    "Examples of Typecasting\n",
    "Here are some examples of typecasting in Python:\n",
    "\n",
    "1. Integer to String\n",
    "a = 5  # integer\n",
    "b = str(a)  # explicit typecasting: integer to string\n",
    "print(b)  # Output: \"5\"\n",
    "2. Float to Integer\n",
    "a = 3.14  # float\n",
    "b = int(a)  # explicit typecasting: float to integer\n",
    "print(b)  # Output: 3\n",
    "3. String to Float\n",
    "a = \"3.14\"  # string\n",
    "b = float(a)  # explicit typecasting: string to float\n",
    "print(b)  # Output: 3.14\n",
    "4. Boolean to String\n",
    "a = True  # boolean\n",
    "b = str(a)  # explicit typecasting: boolean to string\n",
    "print(b)  # Output: \"True\""
   ]
  },
  {
   "cell_type": "code",
   "execution_count": null,
   "id": "d451ac9e-7bfe-4c24-aee8-b98be143ef82",
   "metadata": {},
   "outputs": [],
   "source": [
    "#QUESTION 6\n",
    "HOW DO CONDITIONALS STATEMENTS WORK IN PYTHON? ILLUSTRATE WTH EXAMPLES\n",
    "\n",
    "CONDITIONALS STATEMENTS IN PYTHON\n",
    "\n",
    "Conditional statements, also known as if-else statements, are used to execute different blocks of code based on certain \n",
    "conditions or decisions. In Python, conditional statements are used to control the flow of a program's execution.\n",
    "\n",
    "Types of Conditional Statements\n",
    "There are three types of conditional statements in Python:\n",
    "    \n",
    "1. If Statement\n",
    "The if statement is used to execute a block of code if a certain condition is true.\n",
    "\n",
    "Syntax:\n",
    "if condition:\n",
    "    # code to be executed if condition is true\n"
   ]
  },
  {
   "cell_type": "code",
   "execution_count": 11,
   "id": "04194b7a-e6c7-43b6-b763-f6c35a1c3640",
   "metadata": {},
   "outputs": [
    {
     "name": "stdout",
     "output_type": "stream",
     "text": [
      "x is less than or equal to 10\n"
     ]
    }
   ],
   "source": [
    "x = 5\n",
    "if x > 10:\n",
    "    print(\"x is greater than 10\")\n",
    "else:\n",
    "    print(\"x is less than or equal to 10\")"
   ]
  },
  {
   "cell_type": "code",
   "execution_count": null,
   "id": "53ddccae-9340-4d13-affb-5ea73b3379f5",
   "metadata": {},
   "outputs": [],
   "source": [
    "2. If-Else Statement\n",
    "The if-else statement is used to execute a block of code if a certain condition is true, and another block of code if the \n",
    "condition is false.\n",
    "\n",
    "Syntax:\n",
    "\n",
    "if condition:\n",
    "    # code to be executed if condition is true\n",
    "else:\n",
    "    # code to be executed if condition is false"
   ]
  },
  {
   "cell_type": "code",
   "execution_count": 13,
   "id": "692c4bc5-0bc6-45fb-aa21-ba9d6a869267",
   "metadata": {},
   "outputs": [
    {
     "name": "stdout",
     "output_type": "stream",
     "text": [
      "x is less than or equal to 10\n"
     ]
    }
   ],
   "source": [
    "x = 5\n",
    "if x > 10:\n",
    "    print(\"x is greater than 10\")\n",
    "else:\n",
    "    print(\"x is less than or equal to 10\")"
   ]
  },
  {
   "cell_type": "code",
   "execution_count": null,
   "id": "4379fe60-580d-4d29-a87a-2fc882e61081",
   "metadata": {},
   "outputs": [],
   "source": [
    "3. If-Elif-Else Statement\n",
    "The if-elif-else statement is used to execute a block of code if a certain condition is true, another block of code if another condition is true, and another block of code if all conditions are false.\n",
    "\n",
    "Syntax:\n",
    "if condition1:\n",
    "    # code to be executed if condition1 is true\n",
    "elif condition2:\n",
    "    # code to be executed if condition1 is false and condition2 is true\n",
    "else:\n",
    "    # code to be executed if all conditions are false"
   ]
  },
  {
   "cell_type": "code",
   "execution_count": 14,
   "id": "65c822ea-8fe3-49e5-ad75-2ba35c8e9702",
   "metadata": {},
   "outputs": [
    {
     "name": "stdout",
     "output_type": "stream",
     "text": [
      "x is equal to 5\n"
     ]
    }
   ],
   "source": [
    "x = 5\n",
    "if x > 10:\n",
    "    print(\"x is greater than 10\")\n",
    "elif x == 5:\n",
    "    print(\"x is equal to 5\")\n",
    "else:\n",
    "    print(\"x is less than 5\")"
   ]
  },
  {
   "cell_type": "code",
   "execution_count": 16,
   "id": "eaf6406c-3163-4038-add6-e993bc629365",
   "metadata": {},
   "outputs": [
    {
     "name": "stdout",
     "output_type": "stream",
     "text": [
      "x is less than or equal to 10\n"
     ]
    }
   ],
   "source": [
    "4. Nested Conditional Statements\n",
    "Conditional statements can be nested inside each other to create more complex logic.\n",
    "\n",
    "x = 5\n",
    "y = 10\n",
    "if x > 10:\n",
    "    if y > 10:\n",
    "        print(\"x and y are both greater than 10\")\n",
    "    else:\n",
    "        print(\"x is greater than 10, but y is not\")\n",
    "else:\n",
    "    print(\"x is less than or equal to 10\")"
   ]
  },
  {
   "cell_type": "code",
   "execution_count": null,
   "id": "0e9a4a6a-4448-4d90-9fd3-294a25205135",
   "metadata": {},
   "outputs": [],
   "source": [
    "#QUESRION 7\n",
    "DESCRIBE THE DIFFERENT TYPES OF LOOPS IN PYTHON AND THEIR USE CASES WITH THEIR EXAMPLES....\n",
    "\n",
    "Loops in Python\n",
    "Loops are a fundamental concept in programming that allow you to execute a block of code repeatedly for a specified number\n",
    "of times. Python provides several types of loops, each with its own use cases and examples."
   ]
  },
  {
   "cell_type": "code",
   "execution_count": null,
   "id": "e379e0df-b78d-4e60-8fd8-b19111272cae",
   "metadata": {},
   "outputs": [],
   "source": [
    "1. FOR LOOP\n",
    "A for loop is used to iterate over a sequence (such as a list, tuple, or string) and execute a block of code for each item\n",
    "in the sequence.\n",
    "\n",
    "Syntax:\n",
    "for variable in sequence:\n",
    "    # code to be executed for each item in the sequence"
   ]
  },
  {
   "cell_type": "code",
   "execution_count": 17,
   "id": "cb78bda3-4b26-402e-b93c-752a84ddad61",
   "metadata": {},
   "outputs": [
    {
     "name": "stdout",
     "output_type": "stream",
     "text": [
      "apple\n",
      "banana\n",
      "cherry\n"
     ]
    }
   ],
   "source": [
    "fruits = ['apple', 'banana', 'cherry']\n",
    "for fruit in fruits:\n",
    "    print(fruit)"
   ]
  },
  {
   "cell_type": "code",
   "execution_count": null,
   "id": "acecc720-73df-4ba6-b903-775b01ce08d8",
   "metadata": {},
   "outputs": [],
   "source": [
    "2. WHILE LOOP\n",
    "A while loop is used to execute a block of code as long as a certain condition is true.\n",
    "\n",
    "Syntax:\n",
    "while condition:\n",
    "    # code to be executed while the condition is true"
   ]
  },
  {
   "cell_type": "code",
   "execution_count": 18,
   "id": "cdd82cbc-baf3-45ea-8d53-139f205ef453",
   "metadata": {},
   "outputs": [
    {
     "name": "stdout",
     "output_type": "stream",
     "text": [
      "0\n",
      "1\n",
      "2\n",
      "3\n",
      "4\n"
     ]
    }
   ],
   "source": [
    "i = 0\n",
    "while i < 5:\n",
    "    print(i)\n",
    "    i += 1"
   ]
  },
  {
   "cell_type": "code",
   "execution_count": 19,
   "id": "10054565-62c7-435e-9299-9e7bb953020f",
   "metadata": {},
   "outputs": [
    {
     "name": "stdout",
     "output_type": "stream",
     "text": [
      "red circle\n",
      "red square\n",
      "red triangle\n",
      "green circle\n",
      "green square\n",
      "green triangle\n",
      "blue circle\n",
      "blue square\n",
      "blue triangle\n"
     ]
    }
   ],
   "source": [
    "3. NESTED LOOPS\n",
    "Nested loops are used to iterate over multiple sequences or to perform an action for each item in a sequence.\n",
    "\n",
    "colors = ['red', 'green', 'blue']\n",
    "shapes = ['circle', 'square', 'triangle']\n",
    "for color in colors:\n",
    "    for shape in shapes:\n",
    "        print(f\"{color} {shape}\")"
   ]
  },
  {
   "cell_type": "code",
   "execution_count": 20,
   "id": "6199d56a-bb6d-40a1-8b62-29055cc55f52",
   "metadata": {},
   "outputs": [
    {
     "name": "stdout",
     "output_type": "stream",
     "text": [
      "1\n",
      "2\n"
     ]
    }
   ],
   "source": [
    "4. BREAK LOOP .. BREAK TERMINATES / EXIXTS THE LOOP\n",
    "# The condition is mt it will break loop\n",
    "n = 7\n",
    "i = 1\n",
    "while i < n :\n",
    "    print(i)\n",
    "    i = i+1\n",
    "    if i == 3:\n",
    "        break\n",
    "else:\n",
    "    print(\"This will be executed when the while loop is run successfully without any break\")"
   ]
  },
  {
   "cell_type": "code",
   "execution_count": 21,
   "id": "0d648533-ae45-4cf8-b8ff-8e03429c6613",
   "metadata": {},
   "outputs": [
    {
     "name": "stdout",
     "output_type": "stream",
     "text": [
      "2\n",
      "4\n",
      "5\n",
      "6\n",
      "7\n",
      "This will be executed when the while loop is run successfully without any break\n"
     ]
    }
   ],
   "source": [
    "5. CONTINUE LOOP >> SKIPS THE ITERATION\n",
    "\n",
    "n = 7\n",
    "i = 1\n",
    "while i < n :\n",
    "    i = i+1\n",
    "    if i == 3:\n",
    "        continue\n",
    "    print(i)\n",
    "else:\n",
    "    print(\"This will be executed when the while loop is run successfully without any break\")"
   ]
  },
  {
   "cell_type": "code",
   "execution_count": null,
   "id": "903098ac-e4a6-4c94-85ea-4009b54aa542",
   "metadata": {},
   "outputs": [],
   "source": []
  }
 ],
 "metadata": {
  "kernelspec": {
   "display_name": "Python 3 (ipykernel)",
   "language": "python",
   "name": "python3"
  },
  "language_info": {
   "codemirror_mode": {
    "name": "ipython",
    "version": 3
   },
   "file_extension": ".py",
   "mimetype": "text/x-python",
   "name": "python",
   "nbconvert_exporter": "python",
   "pygments_lexer": "ipython3",
   "version": "3.10.8"
  }
 },
 "nbformat": 4,
 "nbformat_minor": 5
}
